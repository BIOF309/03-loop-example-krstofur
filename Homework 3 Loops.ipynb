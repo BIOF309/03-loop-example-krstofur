{
 "cells": [
  {
   "cell_type": "markdown",
   "metadata": {},
   "source": [
    "# Homework 3 - Example of Loop\n",
    "## The purpose of this program is the loop over an index of p-values to identify the signficant results, p<.05\n"
   ]
  },
  {
   "cell_type": "code",
   "execution_count": 40,
   "metadata": {},
   "outputs": [
    {
     "name": "stdout",
     "output_type": "stream",
     "text": [
      "Test 2 is statistically significant at p<0.05\n",
      "Test 4 is statistically significant at p<0.05\n"
     ]
    }
   ],
   "source": [
    "#Example data containing a list of statistical tests (e.g., test1) and p-values\n",
    "\n",
    "results = [[\"Test 1\", 0.63], [\"Test 2\", 0.03], [\"Test 3\", 0.07],[\"Test 4\", 0.01],[\"Test 5\", 0.10]]\n",
    "\n",
    "for x in results:\n",
    "    if x[1] <0.05:\n",
    "        print (x[0] + \" is statistically significant at p<0.05\")\n",
    "\n",
    "        \n",
    "\n",
    "        \n",
    "\n",
    "\n"
   ]
  },
  {
   "cell_type": "code",
   "execution_count": null,
   "metadata": {
    "collapsed": true
   },
   "outputs": [],
   "source": []
  }
 ],
 "metadata": {
  "kernelspec": {
   "display_name": "Python 2",
   "language": "python",
   "name": "python2"
  },
  "language_info": {
   "codemirror_mode": {
    "name": "ipython",
    "version": 2
   },
   "file_extension": ".py",
   "mimetype": "text/x-python",
   "name": "python",
   "nbconvert_exporter": "python",
   "pygments_lexer": "ipython2",
   "version": "2.7.13"
  }
 },
 "nbformat": 4,
 "nbformat_minor": 2
}
